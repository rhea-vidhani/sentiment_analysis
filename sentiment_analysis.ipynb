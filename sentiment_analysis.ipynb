{
  "nbformat": 4,
  "nbformat_minor": 0,
  "metadata": {
    "colab": {
      "provenance": []
    },
    "kernelspec": {
      "name": "python3",
      "display_name": "Python 3"
    },
    "language_info": {
      "name": "python"
    }
  },
  "cells": [
    {
      "cell_type": "markdown",
      "source": [
        "# ***Upload and Load dataset***"
      ],
      "metadata": {
        "id": "UiIfK0wK6f2W"
      }
    },
    {
      "cell_type": "code",
      "execution_count": 19,
      "metadata": {
        "colab": {
          "base_uri": "https://localhost:8080/",
          "height": 69
        },
        "id": "ihRe23_W595a",
        "outputId": "e2db19b9-9e86-4b74-c6b5-d5afeebad286"
      },
      "outputs": [
        {
          "output_type": "display_data",
          "data": {
            "text/plain": [
              "<IPython.core.display.HTML object>"
            ],
            "text/html": [
              "\n",
              "     <input type=\"file\" id=\"files-0c832a5f-1096-47d9-8cdc-f3e9697a150c\" name=\"files[]\" multiple disabled\n",
              "        style=\"border:none\" />\n",
              "     <output id=\"result-0c832a5f-1096-47d9-8cdc-f3e9697a150c\">\n",
              "      Upload widget is only available when the cell has been executed in the\n",
              "      current browser session. Please rerun this cell to enable.\n",
              "      </output>\n",
              "      <script>// Copyright 2017 Google LLC\n",
              "//\n",
              "// Licensed under the Apache License, Version 2.0 (the \"License\");\n",
              "// you may not use this file except in compliance with the License.\n",
              "// You may obtain a copy of the License at\n",
              "//\n",
              "//      http://www.apache.org/licenses/LICENSE-2.0\n",
              "//\n",
              "// Unless required by applicable law or agreed to in writing, software\n",
              "// distributed under the License is distributed on an \"AS IS\" BASIS,\n",
              "// WITHOUT WARRANTIES OR CONDITIONS OF ANY KIND, either express or implied.\n",
              "// See the License for the specific language governing permissions and\n",
              "// limitations under the License.\n",
              "\n",
              "/**\n",
              " * @fileoverview Helpers for google.colab Python module.\n",
              " */\n",
              "(function(scope) {\n",
              "function span(text, styleAttributes = {}) {\n",
              "  const element = document.createElement('span');\n",
              "  element.textContent = text;\n",
              "  for (const key of Object.keys(styleAttributes)) {\n",
              "    element.style[key] = styleAttributes[key];\n",
              "  }\n",
              "  return element;\n",
              "}\n",
              "\n",
              "// Max number of bytes which will be uploaded at a time.\n",
              "const MAX_PAYLOAD_SIZE = 100 * 1024;\n",
              "\n",
              "function _uploadFiles(inputId, outputId) {\n",
              "  const steps = uploadFilesStep(inputId, outputId);\n",
              "  const outputElement = document.getElementById(outputId);\n",
              "  // Cache steps on the outputElement to make it available for the next call\n",
              "  // to uploadFilesContinue from Python.\n",
              "  outputElement.steps = steps;\n",
              "\n",
              "  return _uploadFilesContinue(outputId);\n",
              "}\n",
              "\n",
              "// This is roughly an async generator (not supported in the browser yet),\n",
              "// where there are multiple asynchronous steps and the Python side is going\n",
              "// to poll for completion of each step.\n",
              "// This uses a Promise to block the python side on completion of each step,\n",
              "// then passes the result of the previous step as the input to the next step.\n",
              "function _uploadFilesContinue(outputId) {\n",
              "  const outputElement = document.getElementById(outputId);\n",
              "  const steps = outputElement.steps;\n",
              "\n",
              "  const next = steps.next(outputElement.lastPromiseValue);\n",
              "  return Promise.resolve(next.value.promise).then((value) => {\n",
              "    // Cache the last promise value to make it available to the next\n",
              "    // step of the generator.\n",
              "    outputElement.lastPromiseValue = value;\n",
              "    return next.value.response;\n",
              "  });\n",
              "}\n",
              "\n",
              "/**\n",
              " * Generator function which is called between each async step of the upload\n",
              " * process.\n",
              " * @param {string} inputId Element ID of the input file picker element.\n",
              " * @param {string} outputId Element ID of the output display.\n",
              " * @return {!Iterable<!Object>} Iterable of next steps.\n",
              " */\n",
              "function* uploadFilesStep(inputId, outputId) {\n",
              "  const inputElement = document.getElementById(inputId);\n",
              "  inputElement.disabled = false;\n",
              "\n",
              "  const outputElement = document.getElementById(outputId);\n",
              "  outputElement.innerHTML = '';\n",
              "\n",
              "  const pickedPromise = new Promise((resolve) => {\n",
              "    inputElement.addEventListener('change', (e) => {\n",
              "      resolve(e.target.files);\n",
              "    });\n",
              "  });\n",
              "\n",
              "  const cancel = document.createElement('button');\n",
              "  inputElement.parentElement.appendChild(cancel);\n",
              "  cancel.textContent = 'Cancel upload';\n",
              "  const cancelPromise = new Promise((resolve) => {\n",
              "    cancel.onclick = () => {\n",
              "      resolve(null);\n",
              "    };\n",
              "  });\n",
              "\n",
              "  // Wait for the user to pick the files.\n",
              "  const files = yield {\n",
              "    promise: Promise.race([pickedPromise, cancelPromise]),\n",
              "    response: {\n",
              "      action: 'starting',\n",
              "    }\n",
              "  };\n",
              "\n",
              "  cancel.remove();\n",
              "\n",
              "  // Disable the input element since further picks are not allowed.\n",
              "  inputElement.disabled = true;\n",
              "\n",
              "  if (!files) {\n",
              "    return {\n",
              "      response: {\n",
              "        action: 'complete',\n",
              "      }\n",
              "    };\n",
              "  }\n",
              "\n",
              "  for (const file of files) {\n",
              "    const li = document.createElement('li');\n",
              "    li.append(span(file.name, {fontWeight: 'bold'}));\n",
              "    li.append(span(\n",
              "        `(${file.type || 'n/a'}) - ${file.size} bytes, ` +\n",
              "        `last modified: ${\n",
              "            file.lastModifiedDate ? file.lastModifiedDate.toLocaleDateString() :\n",
              "                                    'n/a'} - `));\n",
              "    const percent = span('0% done');\n",
              "    li.appendChild(percent);\n",
              "\n",
              "    outputElement.appendChild(li);\n",
              "\n",
              "    const fileDataPromise = new Promise((resolve) => {\n",
              "      const reader = new FileReader();\n",
              "      reader.onload = (e) => {\n",
              "        resolve(e.target.result);\n",
              "      };\n",
              "      reader.readAsArrayBuffer(file);\n",
              "    });\n",
              "    // Wait for the data to be ready.\n",
              "    let fileData = yield {\n",
              "      promise: fileDataPromise,\n",
              "      response: {\n",
              "        action: 'continue',\n",
              "      }\n",
              "    };\n",
              "\n",
              "    // Use a chunked sending to avoid message size limits. See b/62115660.\n",
              "    let position = 0;\n",
              "    do {\n",
              "      const length = Math.min(fileData.byteLength - position, MAX_PAYLOAD_SIZE);\n",
              "      const chunk = new Uint8Array(fileData, position, length);\n",
              "      position += length;\n",
              "\n",
              "      const base64 = btoa(String.fromCharCode.apply(null, chunk));\n",
              "      yield {\n",
              "        response: {\n",
              "          action: 'append',\n",
              "          file: file.name,\n",
              "          data: base64,\n",
              "        },\n",
              "      };\n",
              "\n",
              "      let percentDone = fileData.byteLength === 0 ?\n",
              "          100 :\n",
              "          Math.round((position / fileData.byteLength) * 100);\n",
              "      percent.textContent = `${percentDone}% done`;\n",
              "\n",
              "    } while (position < fileData.byteLength);\n",
              "  }\n",
              "\n",
              "  // All done.\n",
              "  yield {\n",
              "    response: {\n",
              "      action: 'complete',\n",
              "    }\n",
              "  };\n",
              "}\n",
              "\n",
              "scope.google = scope.google || {};\n",
              "scope.google.colab = scope.google.colab || {};\n",
              "scope.google.colab._files = {\n",
              "  _uploadFiles,\n",
              "  _uploadFilesContinue,\n",
              "};\n",
              "})(self);\n",
              "</script> "
            ]
          },
          "metadata": {}
        },
        {
          "output_type": "stream",
          "name": "stdout",
          "text": [
            "Saving Corona.csv to Corona (1).csv\n"
          ]
        }
      ],
      "source": [
        "#Upload the file\n",
        "from google.colab import files\n",
        "uploaded = files.upload()"
      ]
    },
    {
      "cell_type": "code",
      "source": [
        "#Load the dataset\n",
        "import pandas as pd\n",
        "df = pd.read_csv('Corona.csv', encoding='ISO-8859-1')"
      ],
      "metadata": {
        "id": "K6Iwe6r66j7x"
      },
      "execution_count": 20,
      "outputs": []
    },
    {
      "cell_type": "markdown",
      "source": [
        "# ***Data Description***"
      ],
      "metadata": {
        "id": "6LYZCnNMnW-T"
      }
    },
    {
      "cell_type": "code",
      "source": [
        "#Display first few rows of the dataset\n",
        "print(df.head(5))"
      ],
      "metadata": {
        "colab": {
          "base_uri": "https://localhost:8080/"
        },
        "collapsed": true,
        "id": "pjjwTcw86uiT",
        "outputId": "7992b949-9e17-46ec-d57e-8a1479f0931a"
      },
      "execution_count": 21,
      "outputs": [
        {
          "output_type": "stream",
          "name": "stdout",
          "text": [
            "   UserName  ScreenName   Location     TweetAt  \\\n",
            "0      3799       48751     London  16-03-2020   \n",
            "1      3800       48752         UK  16-03-2020   \n",
            "2      3801       48753  Vagabonds  16-03-2020   \n",
            "3      3802       48754        NaN  16-03-2020   \n",
            "4      3803       48755        NaN  16-03-2020   \n",
            "\n",
            "                                       OriginalTweet           Sentiment  \n",
            "0  @MeNyrbie @Phil_Gahan @Chrisitv https://t.co/i...             Neutral  \n",
            "1  advice Talk to your neighbours family to excha...            Positive  \n",
            "2  Coronavirus Australia: Woolworths to give elde...            Positive  \n",
            "3  My food stock is not the only one which is emp...            Positive  \n",
            "4  Me, ready to go at supermarket during the #COV...  Extremely Negative  \n"
          ]
        }
      ]
    },
    {
      "cell_type": "code",
      "source": [
        "#Display basic information about the dataset\n",
        "print(df.info())"
      ],
      "metadata": {
        "colab": {
          "base_uri": "https://localhost:8080/"
        },
        "collapsed": true,
        "id": "vtXBBnWh6_DY",
        "outputId": "f59e3804-33ce-4c2c-df50-a2a76c47eadf"
      },
      "execution_count": 22,
      "outputs": [
        {
          "output_type": "stream",
          "name": "stdout",
          "text": [
            "<class 'pandas.core.frame.DataFrame'>\n",
            "RangeIndex: 41157 entries, 0 to 41156\n",
            "Data columns (total 6 columns):\n",
            " #   Column         Non-Null Count  Dtype \n",
            "---  ------         --------------  ----- \n",
            " 0   UserName       41157 non-null  int64 \n",
            " 1   ScreenName     41157 non-null  int64 \n",
            " 2   Location       32567 non-null  object\n",
            " 3   TweetAt        41157 non-null  object\n",
            " 4   OriginalTweet  41157 non-null  object\n",
            " 5   Sentiment      41157 non-null  object\n",
            "dtypes: int64(2), object(4)\n",
            "memory usage: 1.9+ MB\n",
            "None\n"
          ]
        }
      ]
    },
    {
      "cell_type": "code",
      "source": [
        "#Display numbers of rows and columns\n",
        "print(df.shape)"
      ],
      "metadata": {
        "colab": {
          "base_uri": "https://localhost:8080/"
        },
        "id": "PtCvUu1v8imH",
        "outputId": "0f25761f-f091-4f9d-a36d-583ba6a84592"
      },
      "execution_count": 23,
      "outputs": [
        {
          "output_type": "stream",
          "name": "stdout",
          "text": [
            "(41157, 6)\n"
          ]
        }
      ]
    },
    {
      "cell_type": "markdown",
      "source": [
        "# ***Data Cleaning***"
      ],
      "metadata": {
        "id": "Jv5q2LXw8pOA"
      }
    },
    {
      "cell_type": "code",
      "source": [
        "#Identify missing values\n",
        "print(df.isnull().sum())"
      ],
      "metadata": {
        "colab": {
          "base_uri": "https://localhost:8080/"
        },
        "id": "z8vpBdRU8sad",
        "outputId": "74b2b0bb-e73b-46ba-9135-78055fd00f3c"
      },
      "execution_count": 24,
      "outputs": [
        {
          "output_type": "stream",
          "name": "stdout",
          "text": [
            "UserName            0\n",
            "ScreenName          0\n",
            "Location         8590\n",
            "TweetAt             0\n",
            "OriginalTweet       0\n",
            "Sentiment           0\n",
            "dtype: int64\n"
          ]
        }
      ]
    },
    {
      "cell_type": "code",
      "source": [
        "#Identify duplicate rows\n",
        "print(df.duplicated().sum())"
      ],
      "metadata": {
        "colab": {
          "base_uri": "https://localhost:8080/"
        },
        "id": "b5qLy_GR8xrY",
        "outputId": "c6262b3e-7725-42c8-b57c-0c17b41cd87c"
      },
      "execution_count": 25,
      "outputs": [
        {
          "output_type": "stream",
          "name": "stdout",
          "text": [
            "0\n"
          ]
        }
      ]
    },
    {
      "cell_type": "code",
      "source": [
        "#Remove columns\n",
        "df = df.drop(['UserName', 'ScreenName', 'Location', 'TweetAt'], axis=1)"
      ],
      "metadata": {
        "id": "wpRR0iYlJg8y"
      },
      "execution_count": 26,
      "outputs": []
    },
    {
      "cell_type": "code",
      "source": [
        "#Class imbalance\n",
        "print(df['Sentiment'].value_counts())"
      ],
      "metadata": {
        "colab": {
          "base_uri": "https://localhost:8080/"
        },
        "id": "fV_Is3EuNVXF",
        "outputId": "fb79cbbb-67ef-416c-b445-df8772195a3d"
      },
      "execution_count": 27,
      "outputs": [
        {
          "output_type": "stream",
          "name": "stdout",
          "text": [
            "Sentiment\n",
            "Positive              11422\n",
            "Negative               9917\n",
            "Neutral                7713\n",
            "Extremely Positive     6624\n",
            "Extremely Negative     5481\n",
            "Name: count, dtype: int64\n"
          ]
        }
      ]
    },
    {
      "cell_type": "code",
      "source": [
        "#Display rows where Sentiment is 'Neutral'\n",
        "print(df[df['Sentiment'] == 'Neutral'])"
      ],
      "metadata": {
        "colab": {
          "base_uri": "https://localhost:8080/"
        },
        "id": "TyRvGHU3nkgV",
        "outputId": "e1a7a090-7552-4636-9f3d-d06ed2e05df6"
      },
      "execution_count": 28,
      "outputs": [
        {
          "output_type": "stream",
          "name": "stdout",
          "text": [
            "                                           OriginalTweet Sentiment\n",
            "0      @MeNyrbie @Phil_Gahan @Chrisitv https://t.co/i...   Neutral\n",
            "7      Was at the supermarket today. Didn't buy toile...   Neutral\n",
            "10     All month there hasn't been crowding in the su...   Neutral\n",
            "16     ????? ????? ????? ????? ??\\r\\r\\n?????? ????? ?...   Neutral\n",
            "17     @eyeonthearctic 16MAR20 Russia consumer survei...   Neutral\n",
            "...                                                  ...       ...\n",
            "41141  #Coronavirus ?? ????? ??? ????? ?? ??? ???????...   Neutral\n",
            "41143  https://t.co/8s4vKvcO1r #5gtowers?? #EcuadorUn...   Neutral\n",
            "41144  @_Sunrise_SV @Gamzap @NPR What does not having...   Neutral\n",
            "41152  Airline pilots offering to stock supermarket s...   Neutral\n",
            "41155  Is it wrong that the smell of hand sanitizer i...   Neutral\n",
            "\n",
            "[7713 rows x 2 columns]\n"
          ]
        }
      ]
    },
    {
      "cell_type": "code",
      "source": [
        "#Remove 'Neutral' in sentiment (wrongly labeled neutral)\n",
        "df = df[df['Sentiment'] != 'Neutral']"
      ],
      "metadata": {
        "id": "hzPjDBtb7n6R"
      },
      "execution_count": 29,
      "outputs": []
    },
    {
      "cell_type": "markdown",
      "source": [
        "# ***Model Preprocessing***"
      ],
      "metadata": {
        "id": "VwLp87KLiIu4"
      }
    },
    {
      "cell_type": "code",
      "source": [
        "#Label simplification\n",
        "def simplify_sentiment(label):\n",
        "    if label in ['Positive', 'Extremely Positive']:\n",
        "        return 'Positive'\n",
        "    elif label in ['Negative', 'Extremely Negative']:\n",
        "        return 'Negative'\n",
        "    else:\n",
        "        return 'Other'\n",
        "\n",
        "df = df[['OriginalTweet','Sentiment']].dropna().copy()\n",
        "df['simplified_sentiment'] = df['Sentiment'].apply(simplify_sentiment)\n",
        "df = df[df['simplified_sentiment'] != 'Other'].copy()"
      ],
      "metadata": {
        "id": "KG8yXeTSpY25"
      },
      "execution_count": 30,
      "outputs": []
    },
    {
      "cell_type": "code",
      "source": [
        "#Clean\n",
        "import re\n",
        "from bs4 import BeautifulSoup\n",
        "def clean_text(t):\n",
        "    t = BeautifulSoup(str(t), \"html.parser\").get_text()\n",
        "    t = re.sub(r\"http\\S+|www\\S+\", \" \", t)\n",
        "    t = re.sub(r\"@\\w+\", \" \", t)\n",
        "    t = re.sub(r\"#\", \"\", t)\n",
        "    t = re.sub(r\"\\brt\\b\", \" \", t, flags=re.IGNORECASE)\n",
        "    t = re.sub(r\"&amp;\", \" and \", t)\n",
        "    t = re.sub(r\"[^A-Za-z0-9'\\s.,!?]\", \" \", t)\n",
        "    return re.sub(r\"\\s+\", \" \", t).strip().lower()\n",
        "\n",
        "df['clean_tweet'] = df['OriginalTweet'].apply(clean_text)"
      ],
      "metadata": {
        "id": "SZ_QkoGgpc0G"
      },
      "execution_count": 31,
      "outputs": []
    },
    {
      "cell_type": "code",
      "source": [
        "#Split\n",
        "from sklearn.model_selection import train_test_split\n",
        "X_train_text, X_test_text, y_train, y_test = train_test_split(\n",
        "    df['clean_tweet'].values,\n",
        "    df['simplified_sentiment'].values,\n",
        "    test_size=0.2,\n",
        "    random_state=42,\n",
        "    stratify=df['simplified_sentiment'].values\n",
        ")"
      ],
      "metadata": {
        "id": "dkDnLFqwpgYy"
      },
      "execution_count": 32,
      "outputs": []
    },
    {
      "cell_type": "markdown",
      "source": [
        "# ***Linear SVM***"
      ],
      "metadata": {
        "id": "PVlwoNUCqAsi"
      }
    },
    {
      "cell_type": "code",
      "source": [
        "#Linear SVM\n",
        "from sklearn.pipeline import Pipeline\n",
        "from sklearn.feature_extraction.text import TfidfVectorizer\n",
        "from sklearn.svm import LinearSVC\n",
        "from sklearn.metrics import accuracy_score, f1_score, classification_report, confusion_matrix\n",
        "\n",
        "svm_pipe = Pipeline([\n",
        "    (\"tfidf\", TfidfVectorizer(ngram_range=(1,2), min_df=5, max_df=0.95, max_features=100_000, strip_accents=\"unicode\", lowercase=True)),\n",
        "    (\"clf\", LinearSVC(random_state=42))\n",
        "])\n",
        "svm_pipe.fit(X_train_text, y_train)\n",
        "svm_pred = svm_pipe.predict(X_test_text)\n",
        "print(\"SVM Accuracy:\", round(accuracy_score(y_test, svm_pred), 4))\n",
        "print(\"SVM Macro F1:\", round(f1_score(y_test, svm_pred, average=\"macro\"), 4))\n",
        "print(confusion_matrix(y_test, svm_pred))\n",
        "print(classification_report(y_test, svm_pred))"
      ],
      "metadata": {
        "colab": {
          "base_uri": "https://localhost:8080/"
        },
        "id": "1BGMCghUpk_D",
        "outputId": "9acb0d30-f425-4a77-b894-1b51e9bde870"
      },
      "execution_count": 33,
      "outputs": [
        {
          "output_type": "stream",
          "name": "stdout",
          "text": [
            "SVM Accuracy: 0.8619\n",
            "SVM Macro F1: 0.861\n",
            "[[2613  467]\n",
            " [ 457 3152]]\n",
            "              precision    recall  f1-score   support\n",
            "\n",
            "    Negative       0.85      0.85      0.85      3080\n",
            "    Positive       0.87      0.87      0.87      3609\n",
            "\n",
            "    accuracy                           0.86      6689\n",
            "   macro avg       0.86      0.86      0.86      6689\n",
            "weighted avg       0.86      0.86      0.86      6689\n",
            "\n"
          ]
        }
      ]
    },
    {
      "cell_type": "markdown",
      "source": [
        "# ***XGBoost***"
      ],
      "metadata": {
        "id": "9mOUh0nSqGgf"
      }
    },
    {
      "cell_type": "code",
      "source": [
        "#Xgboost\n",
        "from sklearn.preprocessing import LabelEncoder\n",
        "from sklearn.pipeline import Pipeline\n",
        "from sklearn.feature_extraction.text import TfidfVectorizer\n",
        "from sklearn.metrics import accuracy_score, f1_score, classification_report, confusion_matrix\n",
        "import xgboost as xgb\n",
        "\n",
        "le = LabelEncoder()\n",
        "y_train_enc = le.fit_transform(y_train)\n",
        "y_test_enc  = le.transform(y_test)\n",
        "\n",
        "xgb_pipe = Pipeline([\n",
        "    (\"tfidf\", TfidfVectorizer(\n",
        "        ngram_range=(1,2), min_df=5, max_df=0.95, max_features=100_000,\n",
        "        strip_accents=\"unicode\", lowercase=True\n",
        "    )),\n",
        "    (\"clf\", xgb.XGBClassifier(\n",
        "        objective=\"binary:logistic\", eval_metric=\"logloss\",\n",
        "        tree_method=\"hist\", n_estimators=400, learning_rate=0.1,\n",
        "        max_depth=6, subsample=0.8, colsample_bytree=0.8, random_state=42\n",
        "    ))\n",
        "])\n",
        "\n",
        "xgb_pipe.fit(X_train_text, y_train_enc)\n",
        "y_pred_enc = xgb_pipe.predict(X_test_text)\n",
        "\n",
        "print(\"XGB Accuracy:\", round(accuracy_score(y_test_enc, y_pred_enc), 4))\n",
        "print(\"XGB Macro F1:\", round(f1_score(y_test_enc, y_pred_enc, average=\"macro\"), 4))\n",
        "print(confusion_matrix(y_test_enc, y_pred_enc))\n",
        "print(classification_report(y_test_enc, y_pred_enc, target_names=le.classes_))"
      ],
      "metadata": {
        "colab": {
          "base_uri": "https://localhost:8080/"
        },
        "id": "Vjkj4zD7pnhN",
        "outputId": "98b7e1b5-dea0-42a9-e24c-b3d23174bfa0"
      },
      "execution_count": 35,
      "outputs": [
        {
          "output_type": "stream",
          "name": "stdout",
          "text": [
            "XGB Accuracy: 0.8433\n",
            "XGB Macro F1: 0.8417\n",
            "[[2486  594]\n",
            " [ 454 3155]]\n",
            "              precision    recall  f1-score   support\n",
            "\n",
            "    Negative       0.85      0.81      0.83      3080\n",
            "    Positive       0.84      0.87      0.86      3609\n",
            "\n",
            "    accuracy                           0.84      6689\n",
            "   macro avg       0.84      0.84      0.84      6689\n",
            "weighted avg       0.84      0.84      0.84      6689\n",
            "\n"
          ]
        }
      ]
    }
  ]
}